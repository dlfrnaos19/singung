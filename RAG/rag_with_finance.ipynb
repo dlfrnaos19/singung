{
 "cells": [
  {
   "cell_type": "markdown",
   "metadata": {},
   "source": [
    "### 샘플 데이터 생성(광주은행 은행여신거래기본약관(가계용))"
   ]
  },
  {
   "cell_type": "code",
   "execution_count": 1,
   "metadata": {},
   "outputs": [],
   "source": [
    "from pypdf import PdfReader\n",
    "import re\n",
    "import pandas as pd\n",
    "\n",
    "reader = PdfReader(\"./sample_data/40-11-1001_은행여신거래기본약관(가계용)_20230502.pdf\")\n",
    "with open(\"./sample_data/거래여신기본약관.txt\", 'w') as f:\n",
    "    f.write(reader.pages[0].extract_text())\n",
    "    f.write(reader.pages[1].extract_text())\n",
    "    \n",
    "with open(\"./sample_data/거래여신기본약관.txt\",'r') as f:\n",
    "    text = f.read()\n",
    "\n",
    "lines = text.split(\"\\n\")\n",
    "\n",
    "# 각 줄이 \"제X조(\" 또는 \"①\", \"②\", \"③\", \"④\", \"⑤\", \"⑥\", \"⑦\", \"⑧\"로 시작하는지 확인.\n",
    "sections = []\n",
    "current_section = []\n",
    "for line in lines:\n",
    "    if re.match(\"(제\\\\d+조\\\\()|(① )|(② )|(③ )|(④ )|(⑤ )|(⑥ )|(⑦ )|(⑧ )\", line):\n",
    "        # 새로운 섹션이 시작되면, 이전 섹션을 sections 리스트에 추가합니다.\n",
    "        if current_section:\n",
    "            sections.append(\"\\n\".join(current_section))\n",
    "        current_section = [line]\n",
    "    else:\n",
    "        current_section.append(line)\n",
    "\n",
    "# 마지막 섹션을 sections 리스트에 추가.\n",
    "if current_section:\n",
    "    sections.append(\"\\n\".join(current_section))\n",
    "    \n",
    "df = pd.DataFrame(dict(data=sections))"
   ]
  },
  {
   "cell_type": "markdown",
   "metadata": {},
   "source": [
    "### 임베딩 모델 (sentence transformer 준비 및 milvus에 vector 데이터 삽입)"
   ]
  },
  {
   "cell_type": "code",
   "execution_count": 2,
   "metadata": {},
   "outputs": [],
   "source": [
    "from langchain.vectorstores.milvus import Milvus\n",
    "from langchain.embeddings.huggingface import HuggingFaceEmbeddings\n",
    "\n",
    "embedding = HuggingFaceEmbeddings(\n",
    "    model_name = \"jhgan/ko-sroberta-multitask\"\n",
    ")\n",
    "embedding1 = HuggingFaceEmbeddings(\n",
    "    model_name = \"upskyy/kf-deberta-multitask\",\n",
    ")\n",
    "# ds = load_dataset(\"maywell/ko_wikidata_QA\", split=\"train\")\n",
    "# ds = ds.select(range(100))\n",
    "# milvus data가 없을때 최초 생성용\n",
    "# vec = Milvus.from_texts(\n",
    "#     texts=df[\"data\"].to_list(),\n",
    "#     embedding=embedding,\n",
    "#     collection_name=\"embedding\",\n",
    "# )\n",
    "# vec2 = Milvus.from_texts(\n",
    "#     texts=df[\"data\"].to_list(),\n",
    "#     embedding=embedding1,\n",
    "#     collection_name=\"embedding1\"\n",
    "# )\n",
    "vec = Milvus(\n",
    "    embedding_function=embedding,\n",
    "    collection_name=\"embedding\",\n",
    ")\n",
    "vec1 = Milvus(\n",
    "    embedding_function=embedding1,\n",
    "    collection_name=\"embedding1\",\n",
    ")\n"
   ]
  },
  {
   "cell_type": "markdown",
   "metadata": {},
   "source": [
    "### LLM 세팅"
   ]
  },
  {
   "cell_type": "code",
   "execution_count": 3,
   "metadata": {},
   "outputs": [
    {
     "name": "stderr",
     "output_type": "stream",
     "text": [
      "`AnnotionFormat` is deprecated and will be removed in v4.38. Please use `transformers.image_utils.AnnotationFormat` instead.\n",
      "The model was loaded with use_flash_attention_2=True, which is deprecated and may be removed in a future release. Please use `attn_implementation=\"flash_attention_2\"` instead.\n"
     ]
    },
    {
     "data": {
      "application/vnd.jupyter.widget-view+json": {
       "model_id": "7c9a1ee1702a4b2abd8313a14d183183",
       "version_major": 2,
       "version_minor": 0
      },
      "text/plain": [
       "Loading checkpoint shards:   0%|          | 0/2 [00:00<?, ?it/s]"
      ]
     },
     "metadata": {},
     "output_type": "display_data"
    },
    {
     "name": "stderr",
     "output_type": "stream",
     "text": [
      "Special tokens have been added in the vocabulary, make sure the associated word embeddings are fine-tuned or trained.\n"
     ]
    }
   ],
   "source": [
    "import sys\n",
    "sys.path.append(\"/home/19kim/work/repos/singung\")\n",
    "from langchain.chains.qa_with_sources import load_qa_with_sources_chain\n",
    "from langchain.llms.huggingface_pipeline import HuggingFacePipeline\n",
    "from transformers import pipeline, TextStreamer\n",
    "from util import get_hf_model_tokenizer\n",
    "\n",
    "model, tokenizer = get_hf_model_tokenizer(\n",
    "    \"/home/19kim/work/models/42dot_LLM-SFT-1.3B/\",\n",
    ")\n",
    "\n",
    "pipe = pipeline(\n",
    "    task=\"text-generation\",\n",
    "    model=model,\n",
    "    tokenizer=tokenizer,\n",
    "    device_map=\"auto\",\n",
    "    max_length=8192,\n",
    "    streamer=TextStreamer(tokenizer=tokenizer, skip_prompt=True),\n",
    "    repetition_penalty=1.1,\n",
    "    top_k=10,\n",
    "    top_p=0.97,\n",
    "    temperature=0.1,\n",
    "    do_sample=True,\n",
    "    \n",
    ")\n",
    "\n",
    "llm = HuggingFacePipeline(\n",
    "    pipeline=pipe,\n",
    ")"
   ]
  },
  {
   "cell_type": "markdown",
   "metadata": {},
   "source": [
    "### RAG 세팅"
   ]
  },
  {
   "cell_type": "code",
   "execution_count": 4,
   "metadata": {},
   "outputs": [],
   "source": [
    "from langchain.prompts import PromptTemplate, ChatPromptTemplate\n",
    "from langchain_core.runnables import RunnableLambda, RunnablePassthrough\n",
    "from langchain_core.output_parsers import StrOutputParser\n",
    "from langchain_core.messages import AIMessage, HumanMessage, get_buffer_string\n",
    "from langchain.memory import ConversationBufferMemory\n",
    "from langchain_core.runnables import RunnableParallel\n",
    "from operator import itemgetter\n",
    "\n",
    "SYSTEM_PROMPT = \"\"\"### System:\n",
    "당신은 사람들이 편하게 금융 상담을 할 수 있도록 도와주는 금융 상담 어시스턴트 입니다.\n",
    "사람은 약관 검색 결과에 관한 정보에 도움을 얻고자 합니다.\n",
    "### CONTEXT에 주어지는 정보를 바탕으로, 사람이 궁금해 하는 질문에 핵심적인 정보를 친절하고, 상세하게 설명하세요.\"\"\"\n",
    "template = \"\"\"\n",
    "### CONTEXT:\n",
    "{context}\n",
    "### USER:\n",
    "사람: {question}\n",
    "### ASSISTANT:\n",
    "어시스턴트: \"\"\"\n",
    "\n",
    "template = SYSTEM_PROMPT + template\n",
    "prompt = PromptTemplate.from_template(template)\n",
    "\n",
    "memory = ConversationBufferMemory(\n",
    "    return_messages=True, output_key=\"answer\", input_key=\"question\",\n",
    ")\n",
    "loaded_memory = RunnablePassthrough.assign(\n",
    "    chat_history=RunnableLambda(memory.load_memory_variables) | itemgetter(\"history\")\n",
    ")\n",
    "standalone_question = dict(\n",
    "    standalone_question=dict(\n",
    "        question=lambda x: x[\"question\"],\n",
    "        chat_history=lambda x: get_buffer_string(x[\"chat_history\"]),\n",
    "    )\n",
    ")\n",
    "\n",
    "def format_docs(docs):\n",
    "    return \"\\n\\n\".join(doc.page_content for doc in docs)\n",
    "\n",
    "retriever = vec.as_retriever()\n",
    "\n",
    "rag_chain = (\n",
    "    RunnablePassthrough.assign(context=(lambda x: format_docs(x[\"context\"])))\n",
    "    | prompt\n",
    "    | llm\n",
    "    | StrOutputParser()\n",
    ")"
   ]
  },
  {
   "cell_type": "code",
   "execution_count": 5,
   "metadata": {},
   "outputs": [],
   "source": [
    "rag_chain_with_source = RunnableParallel(\n",
    "    dict(\n",
    "        context=retriever,\n",
    "        question=RunnablePassthrough()\n",
    "    )\n",
    ").assign(answer=rag_chain)"
   ]
  },
  {
   "cell_type": "code",
   "execution_count": 17,
   "metadata": {},
   "outputs": [
    {
     "name": "stdout",
     "output_type": "stream",
     "text": [
      "\n",
      "① "
     ]
    },
    {
     "name": "stderr",
     "output_type": "stream",
     "text": [
      "/home/19kim/miniconda3/lib/python3.11/site-packages/transformers/pipelines/base.py:1101: UserWarning: You seem to be using the pipelines sequentially on GPU. In order to maximize efficiency please use a dataset\n",
      "  warnings.warn(\n"
     ]
    },
    {
     "name": "stdout",
     "output_type": "stream",
     "text": [
      "채무자는 은행이 채권보전상의 필요에 의하여 청구하는 때에는 부채현황, 채무자  \n",
      "및 보증인의 신용상태나 담보의 상황에 관하여, 곧 회답하며, 또 은행이 그에 \n",
      "관하여 조사하고자 할 때에는, 이에 협조하여야 합니다.\n",
      "① 채무자가 발행․배서 등을 한 어음 또는 채무자가 은행에 제출한 각종 증서 \n",
      "등이 불가항력 ․사변․재해․수송도중의 사고 등 은행 자신의 책임없는 사유로 인하여  \n",
      "분실․손상․멸실 또는 늦게 도착한 경우 채무자는 은행의 장부ㆍ전표 등의 기록에  \n",
      "의하여 채무를 갚기로 하되, 채무자가 은행의 장부ㆍ전표 등의 기록과 다른 자\n",
      "자료를 제시할 경우 은행의 기록과 채무자가 제시하는 자료를 상호 대조하여 채무를 확정한 후 갚기로 합니다.② 채무자는 제1항의 분실ㆍ손상ㆍ멸실의 경우에 은행의 청구에 따라 곧 그에 \n",
      "대신할 어음이나 증서 등을 제출하여야 합니다. 다만, 은행이 제3자와의 거래에서  \n",
      "취득한 어음이나 증서의 경우에는 제출하지 않아도 됩니다.\n",
      "③ 은행은 대출약정을 하기 전에 채무자가 미리 알 수 있도록 별도의 서면에 의<|endoftext|>\n"
     ]
    },
    {
     "data": {
      "text/plain": [
       "{'context': [Document(page_content='① 채무자는 은행이 채권보전상의 필요에 의하여 청구하는 때에는 부채현황 , 채무자  \\n및 보증인의 신용상태나 담보의 상황에 관하여 , 곧 회답하며 , 또 은행이 그에 \\n관하여 조사하고자 할 때에는 , 이에 협조하여야 합니다 .'),\n",
       "  Document(page_content='① 채무자가 발행․배서 등을 한 어음 또는 채무자가 은행에 제출한 각종 증서 \\n등이 불가항력 ․사변․재해․수송도중의 사고 등 은행 자신의 책임없는 사유로 인하여  \\n분실․손상․멸실 또는 늦게 도착한 경우 채무자는 은행의 장부ㆍ전표 등의 기록에  \\n의하여 채무를 갚기로 하되, 채무자가 은행의 장부ㆍ전표 등의 기록과 다른 자\\n료를 제시할 경우 은행의 기록과 채무자가 제시하는 자료를 상호 대조하여 채\\n무를 확정한 후 갚기로 합니다 .② 채무자는 제1항의 분실ㆍ손상ㆍ멸실의 경우에 은행의 청구에 따라 곧 그에 \\n대신할 어음이나 증서 등을 제출하여야 합니다 . 다만, 은행이 제3자와의 거래에서  \\n취득한 어음이나 증서의 경우에는 제출하지 않아도 됩니다 .'),\n",
       "  Document(page_content='③ 은행은 대출약정을 하기 전에 채무자가 미리 알 수 있도록 별도의 서면에 의\\n하여 약정이자 , 중도상환수수료 및 대출로 인하여 채무자가 부담하여야 할 부대\\n비용의 항목과 금액을 설명하여야 합니다 . 아울러 약정이자와 그 명칭에 불구하고  \\n채무자가 부담하는 이자와 성격이 유사한 수수료 등을 합산한 실질유효금리를 \\n산정하여 설명하여야 합니다 .\\n제4조의2(대출계약 철회)(이  조 항 의  밑 줄  친  부 분 은  공 정 거 래 위 원 회 의  표 준 약 관 과  다 릅 니 다 .)'),\n",
       "  Document(page_content='① 이자ㆍ할인료ㆍ보증료ㆍ수수료 등(이하 “이자 등”이라고 합니다 )의 율ㆍ계산방법\\nㆍ지급의 시기 및 방법에 관하여는 , 은행은 법령이 허용하는 한도 내에서 은행이 \\n정할 수 있으며 , 채무자가 해당사항을 계약 체결 전에 상품설명서 및 홈페이지 등\\n에서 확인할 수 있도록 합니다 .')],\n",
       " 'question': '채무자와 은행에 관한 내용 알려줘',\n",
       " 'answer': '\\n① 채무자는 은행이 채권보전상의 필요에 의하여 청구하는 때에는 부채현황, 채무자  \\n및 보증인의 신용상태나 담보의 상황에 관하여, 곧 회답하며, 또 은행이 그에 \\n관하여 조사하고자 할 때에는, 이에 협조하여야 합니다.\\n① 채무자가 발행․배서 등을 한 어음 또는 채무자가 은행에 제출한 각종 증서 \\n등이 불가항력 ․사변․재해․수송도중의 사고 등 은행 자신의 책임없는 사유로 인하여  \\n분실․손상․멸실 또는 늦게 도착한 경우 채무자는 은행의 장부ㆍ전표 등의 기록에  \\n의하여 채무를 갚기로 하되, 채무자가 은행의 장부ㆍ전표 등의 기록과 다른 자\\n자료를 제시할 경우 은행의 기록과 채무자가 제시하는 자료를 상호 대조하여 채무를 확정한 후 갚기로 합니다.② 채무자는 제1항의 분실ㆍ손상ㆍ멸실의 경우에 은행의 청구에 따라 곧 그에 \\n대신할 어음이나 증서 등을 제출하여야 합니다. 다만, 은행이 제3자와의 거래에서  \\n취득한 어음이나 증서의 경우에는 제출하지 않아도 됩니다.\\n③ 은행은 대출약정을 하기 전에 채무자가 미리 알 수 있도록 별도의 서면에 의'}"
      ]
     },
     "execution_count": 17,
     "metadata": {},
     "output_type": "execute_result"
    }
   ],
   "source": [
    "rag_chain_with_source.invoke(\"채무자와 은행에 관한 내용 알려줘\")"
   ]
  },
  {
   "cell_type": "markdown",
   "metadata": {},
   "source": [
    "### 벡터디비 내용 삭제"
   ]
  },
  {
   "cell_type": "code",
   "execution_count": 6,
   "metadata": {},
   "outputs": [],
   "source": [
    "from pymilvus import connections, db\n",
    "con = connections.connect(host=\"127.0.0.1\",port=19530)\n",
    "\n",
    "# get milvus collection(something like column)\n",
    "from pymilvus import Collection\n",
    "col = Collection(\"embedding\")\n",
    "\n",
    "# drop collection\n",
    "from pymilvus import utility\n",
    "utility.drop_collection(\"embedding\")"
   ]
  }
 ],
 "metadata": {
  "kernelspec": {
   "display_name": "base",
   "language": "python",
   "name": "python3"
  },
  "language_info": {
   "codemirror_mode": {
    "name": "ipython",
    "version": 3
   },
   "file_extension": ".py",
   "mimetype": "text/x-python",
   "name": "python",
   "nbconvert_exporter": "python",
   "pygments_lexer": "ipython3",
   "version": "3.11.4"
  },
  "orig_nbformat": 4
 },
 "nbformat": 4,
 "nbformat_minor": 2
}
