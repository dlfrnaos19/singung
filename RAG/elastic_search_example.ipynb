{
 "cells": [
  {
   "cell_type": "code",
   "execution_count": 1,
   "metadata": {},
   "outputs": [],
   "source": [
    "from datasets import Dataset, load_dataset\n",
    "ds = load_dataset(\"maywell/ko_wikidata_QA\", split=\"train\")"
   ]
  },
  {
   "cell_type": "code",
   "execution_count": 3,
   "metadata": {},
   "outputs": [],
   "source": [
    "from elasticsearch import Elasticsearch\n",
    "es_con = Elasticsearch(hosts=\"localhost\" , port =\"9200\" , http_auth= (\"elastic\",\"Elastic\"))"
   ]
  },
  {
   "cell_type": "code",
   "execution_count": 2,
   "metadata": {},
   "outputs": [],
   "source": [
    "ds = ds.select(range(100))"
   ]
  },
  {
   "cell_type": "code",
   "execution_count": 6,
   "metadata": {},
   "outputs": [
    {
     "data": {
      "text/plain": [
       "{'instruction': ['캐모마일은 어떤 식물인가요?',\n",
       "  '상하이 미술관은 언제 폐관되었어?',\n",
       "  '널로리카타는 어떤 동물 목인가?',\n",
       "  '김영현은 어떤 작품들을 작성했나요?',\n",
       "  '클레오파트라 7세는 누구야?',\n",
       "  '무교왕 최봉준은 어떤 드라마인가?',\n",
       "  '공공데이터포털은 누구가 운영하나요?',\n",
       "  '스플라크노브리움속은 무슨 속인가요?',\n",
       "  '충주향교는 어디에 위치해?',\n",
       "  '퓨렉스 공법은 어떤 원리로 우라늄과 플루토늄을 추출하는 거야?'],\n",
       " 'output': [\"캐모마일은 국화과에 속하는 식물로, 저먼캐모마일, 캐모마일, 카미레 등이 포함됩니다. 이들 식물은 사과와 같은 향이 나기 때문에 '캐모마일'이라고 불립니다. 캐모마일은 노란색 꽃을 가진 식물이며, 6월 중순에서 7월 하순까지 꽃을 피워요. 추위에 강한 편이며, 양지에서 잘 자라요. 꽃은 낮에는 피고 밤에는 오므라져 있으며, 일주일 정도 꽃이 핀다고 합니다. 씨받이는 매우 쉬우며, 싹도 잘 나기 때문에 직접 씨를 받을 수 있습니다. 캐모마일은 양지 바르고 배수가 좋은 사질토에서 잘 피워요. 수확한 꽃은 통풍이 잘 되는 응달에서 말려 저장해요. 캐모마일의 방향유는 긴장 완화, 두통 등의 통증 완화에 효과가 있으며, 몸을 따뜻하게 해주는 효과도 있습니다. 차로 마시면 위장장애의 완화에 도움을 줄 수 있습니다. 캐모마일은 카페인 성분이 없는 허브이며, 좀벌레를 없애는 데 효과적인 허브식물입니다.\",\n",
       "  '상하이 미술관은 중화인민공화국 상하이시에 위치했던 미술관으로, 2012년 12월 31일에 폐관되었습니다. 그러나 박물관의 기능은 현재 중화예술궁으로 개칭되었습니다. 이 미술관은 1930년대에 영국 신고전주의 양식으로 설계되었으며, 건축면적은 17,326㎡입니다. 또한 12개의 전시관이 있었습니다. 상하이 미술관은 1933년에 세워진 건축물로, 황푸구(상하이시)의 건축물 중 하나였습니다. 이 미술관은 런민광창역에서 내려서 접근할 수 있으며, 서쪽으로는 밍티엔광창과 마주하고, 북쪽은 난징시루와 맞닿았습니다. 동쪽으로는 런민꽁위엔이 있습니다.',\n",
       "  \"신군부목(Neoloricata)은 다판류를 대표하는 연체동물 목 중 하나입니다. 그것에는 줄군부아목(Lepidopleurina), 줄군부과(Leptochitonidae), 프토코친토노이데이(Protochitonidae), 한레일리데이드(Hanleyidae), 아포소초티온아이데이드(Afossochitonidae)와 같은 군부아목(Chitonina)과도 있습니다. 또한, 연두군부과(Ischnochitonidae), 따가리과 또는 딱지조개과(Mopaliidae), 식소치톤아이데이드(Schizochitonidae), 군부과(Chitonidae)와 같은 가시군부아목(Acanthochitonina)도 있습니다. 그러나 분류가 불확실한 속인 '라벤아키톤'은 다른 종류와 함께 다판류로 분류됩니다.\",\n",
       "  \"김영현은 대한민국의 유명한 드라마 작가로, 많은 작품들이 높은 시청률로 인기를 얻었습니다. 그의 대표작으로는 '대장금', '선덕여왕', '히트' 및 '서동요' 등이 있습니다. 그는 2003년 MBC 연기대상 작가부문 특별상('대장금')과 2009년 MBC TV 올해의 작가상('선덕여왕')을 받았습니다. 그는 1985년 서울영동여자고등학교를 졸업했고, 1989년 연세대학교 경제학과를 졸업했습니다. 또한, 2007년에는 박상연과 함께 창립한 크리에티브 콘텐츠 법인 케이피앤쇼의 대표이사로 활동했습니다. 그는 1992년부터 1996년까지 문화방송의 오락프로그램 구성작가로 근무했으며, 한국산업경제연구원 산하 잡지 '신용경제'의 기자로도 활동했습니다. 그의 최근 작품으로는 '써클 이어진 두 세계', '육룡이 나르샤', '뿌리깊은 나무', '선덕여왕', '히트', '서동요', '대장금', '신화', '애드버킷' 등이 있습니다. 그는 2003년 MBC 코미디대상 작가부문 특별상('대장금'), 2009년 MBC 연기대상 작가부문 특별상('선덕여왕'), 2010년 제5회 서울 드라마 어워즈 한류특별상 작가상('선덕여왕'), 2010년 한국PD대상 제작부문 TV작가상('선덕여왕'), 2012년 제48회 백상예술대상 TV부문 극본상('뿌리깊은 나무') 등을 수상했습니다.\",\n",
       "  \"클레오파트라는 고대 그리스어로 '아버지의 영광'이라는 뜻의 이름이에요. 클레오파트라 1세부터 7세까지 있는데, 각각은 셀레우코스 제국 안티오코스 3세의 후손이거나 라고스 프톨레마이오스 9세의 후손이에요. 클레오파트라 7세는 가장 유명한데, 율리우스 카이사르와 마르쿠스 안토니우스의 연인이었어요. 그래서 클레오파트라는 여러 소설과 영화에서 주인공으로 등장했어요.\",\n",
       "  \"무교왕 최봉준은 1983년 1월 3일부터 3월 22일까지 방영된 문화방송 월화드라마로, 조선시대부터 현대에 이르기까지의 거부들의 일대기를 담았습니다. 이 드라마는 거상 최봉준의 일대기를 통해 조선조 말 국제무역의 양상과 근대 경제의 발달 과정을 그려냈습니다. 최봉준은 '꺼삐딴 최'이라 불리며, 청국, 일본, 러시아를 상대로 당대 최고의 무역상이 되었고, 해조신문을 창간했습니다. 이 드라마는 거부실록 시리즈 중 다섯 번째이며 마지막 편입니다. 이 드라마는 1982년 12월 20일에 처음 방영될 예정이었지만, 연말특집 방송으로 인해 1월 3일에 방영되었습니다. 또한, 이 드라마와 함께 방영된 다른 프로그램으로는 특별기획 〈세계경제 어디로 가고 있나〉와 송년 보도특집 〈민족활력에 불을 당기며〉가 있습니다.\",\n",
       "  '공공데이터포털은 행정안전부에서 운영하는 공공데이터 통합제공 시스템으로, 대한민국 정부가 보유한 다양한 공공데이터를 개방하여 누구나 편리하고 손쉽게 활용할 수 있도록 하는 것을 목표로 하고 있습니다. 이 시스템은 2010년 6월에 공공데이터활용지원센터를 설치하였고, 2011년 7월부터 12월까지 공공데이터 포털 서비스를 개시했습니다. 현재 14,416개의 공공데이터가 공개되어 있으며, 각 분야별로 다양한 정보와 함께 제공됩니다. 이러한 데이터들은 파일 다운로드 또는 오픈API를 통해 이용할 수 있습니다.',\n",
       "  '스플라크노브리움속(Splachnobryum)은 침꼬마이끼목에 속하는 이끼 속으로, 그 중에서도 유일한 속이다. 이 속에는 수많은 종들이 있는데, 예를 들면 Splachnobryum aquaticum, Splachnobryum arabicum, Splachnobryum assamicum 등이 있다. 이러한 이름들은 각각 특정한 지역이나 특징에 따라 명명되었다.',\n",
       "  '충주향교는 충청북도 충주시 교현동에 위치한 향교로, 1980년 1월 9일 충청북도의 유형문화재 제57호로 지정되었습니다. 이곳은 훌륭한 유학자들의 위패를 모시고 제사를 지내며, 지방 백성의 교육과 교화를 담당하는 국립교육기관입니다. 조선 태조 7년(1398)에 처음 지어졌으나, 임진왜란(1592) 때 불에 타 없어진 후 인조 7년(1629)에 지금의 자리로 옮겨졌습니다. 현재 남아있는 건물로는 대성전, 동무·서무·명륜당·동재·서재·내삼문·외삼문 등이 있습니다. 대성전에는 공자를 비롯한 중국의 훌륭한 유학자들의 위패가 모여 있고, 동무와 서무에는 우리나라의 18명의 현인들의 위패가 모여 제사공간을 이루고 있습니다. 명륜당은 학생들이 모여 공부했던 강당으로, 갑오개혁(1894) 이후 교육기능은 없어졌습니다. 그러나 1976년부터 명륜학원을 운영하면서 한문·서예·경전 등을 가르치고 있습니다. 또한 충주시 중원군의 효자와 효부를 매년 표창합니다.',\n",
       "  '퓨렉스는 사용후 연료에서 우라늄과 플루토늄을 추출하는 일반적인 방식으로, 이온 교환 추출에 기반을 두고 있습니다. 이 방식은 맨해튼 계획의 일부였던 시카고 대학의 야금 연구소에서 발명되었으며, 인산 트리부틸(tributyl phosphate)을 주요 반응제로 사용합니다. 사용후 연료는 악티니드 계열의 화합물로 구성되어 있으며, 이 중 대부분은 중성자를 흡수하지 않은 연료입니다. 퓨렉스 공법은 이온 교환을 통해 우라늄과 플루토늄을 추출하고, 이를 발전소의 원료로 재활용할 수 있습니다. 연료는 먼저 질산에서 녹이고, 세 단계의 용매 추출 공정을 거치며, 유기용제를 사용하여 우라늄과 플루토늄을 회수합니다. 이 과정에서 액체 폐기물이 생성되며, 이러한 폐기물은 지하수를 오염시키는 문제를 초래했습니다.']}"
      ]
     },
     "execution_count": 6,
     "metadata": {},
     "output_type": "execute_result"
    }
   ],
   "source": [
    "ds[:10]"
   ]
  },
  {
   "cell_type": "code",
   "execution_count": 4,
   "metadata": {},
   "outputs": [
    {
     "data": {
      "application/vnd.jupyter.widget-view+json": {
       "model_id": "f2e71a3d4d5144ab988ad057d7489e48",
       "version_major": 2,
       "version_minor": 0
      },
      "text/plain": [
       "  0%|          | 0/100 [00:00<?, ?docs/s]"
      ]
     },
     "metadata": {},
     "output_type": "display_data"
    },
    {
     "data": {
      "text/plain": [
       "Dataset({\n",
       "    features: ['instruction', 'output'],\n",
       "    num_rows: 100\n",
       "})"
      ]
     },
     "execution_count": 4,
     "metadata": {},
     "output_type": "execute_result"
    }
   ],
   "source": [
    "ds.add_elasticsearch_index(\n",
    "    column=\"output\",\n",
    "    index_name=\"out\",\n",
    "    es_client=es_con,\n",
    "    es_index_name=\"out\",\n",
    ")"
   ]
  },
  {
   "cell_type": "code",
   "execution_count": 11,
   "metadata": {},
   "outputs": [
    {
     "ename": "RequestError",
     "evalue": "RequestError(400, 'parsing_exception', '[multi_match] unknown token [START_OBJECT] after [query]')",
     "output_type": "error",
     "traceback": [
      "\u001b[0;31m---------------------------------------------------------------------------\u001b[0m",
      "\u001b[0;31mRequestError\u001b[0m                              Traceback (most recent call last)",
      "Cell \u001b[0;32mIn[11], line 1\u001b[0m\n\u001b[0;32m----> 1\u001b[0m ds\u001b[39m.\u001b[39;49mget_nearest_examples(\u001b[39m\"\u001b[39;49m\u001b[39mout\u001b[39;49m\u001b[39m\"\u001b[39;49m,\u001b[39mdict\u001b[39;49m(query\u001b[39m=\u001b[39;49m\u001b[39mdict\u001b[39;49m(match\u001b[39m=\u001b[39;49m\u001b[39mdict\u001b[39;49m(message\u001b[39m=\u001b[39;49m\u001b[39m\"\u001b[39;49m\u001b[39mthis is a test\u001b[39;49m\u001b[39m\"\u001b[39;49m)),k\u001b[39m=\u001b[39;49m\u001b[39m5\u001b[39;49m))\n",
      "File \u001b[0;32m~/miniconda3/lib/python3.11/site-packages/datasets/search.py:748\u001b[0m, in \u001b[0;36mIndexableMixin.get_nearest_examples\u001b[0;34m(self, index_name, query, k, **kwargs)\u001b[0m\n\u001b[1;32m    731\u001b[0m \u001b[39m\u001b[39m\u001b[39m\"\"\"Find the nearest examples in the dataset to the query.\u001b[39;00m\n\u001b[1;32m    732\u001b[0m \n\u001b[1;32m    733\u001b[0m \u001b[39mArgs:\u001b[39;00m\n\u001b[0;32m   (...)\u001b[0m\n\u001b[1;32m    745\u001b[0m \u001b[39m        - **examples** (`dict`): the retrieved examples\u001b[39;00m\n\u001b[1;32m    746\u001b[0m \u001b[39m\"\"\"\u001b[39;00m\n\u001b[1;32m    747\u001b[0m \u001b[39mself\u001b[39m\u001b[39m.\u001b[39m_check_index_is_initialized(index_name)\n\u001b[0;32m--> 748\u001b[0m scores, indices \u001b[39m=\u001b[39m \u001b[39mself\u001b[39;49m\u001b[39m.\u001b[39;49msearch(index_name, query, k, \u001b[39m*\u001b[39;49m\u001b[39m*\u001b[39;49mkwargs)\n\u001b[1;32m    749\u001b[0m top_indices \u001b[39m=\u001b[39m [i \u001b[39mfor\u001b[39;00m i \u001b[39min\u001b[39;00m indices \u001b[39mif\u001b[39;00m i \u001b[39m>\u001b[39m\u001b[39m=\u001b[39m \u001b[39m0\u001b[39m]\n\u001b[1;32m    750\u001b[0m \u001b[39mreturn\u001b[39;00m NearestExamplesResults(scores[: \u001b[39mlen\u001b[39m(top_indices)], \u001b[39mself\u001b[39m[top_indices])\n",
      "File \u001b[0;32m~/miniconda3/lib/python3.11/site-packages/datasets/search.py:704\u001b[0m, in \u001b[0;36mIndexableMixin.search\u001b[0;34m(self, index_name, query, k, **kwargs)\u001b[0m\n\u001b[1;32m    687\u001b[0m \u001b[39m\u001b[39m\u001b[39m\"\"\"Find the nearest examples indices in the dataset to the query.\u001b[39;00m\n\u001b[1;32m    688\u001b[0m \n\u001b[1;32m    689\u001b[0m \u001b[39mArgs:\u001b[39;00m\n\u001b[0;32m   (...)\u001b[0m\n\u001b[1;32m    701\u001b[0m \u001b[39m        - **indices** (`List[List[int]]`): the indices of the retrieved examples\u001b[39;00m\n\u001b[1;32m    702\u001b[0m \u001b[39m\"\"\"\u001b[39;00m\n\u001b[1;32m    703\u001b[0m \u001b[39mself\u001b[39m\u001b[39m.\u001b[39m_check_index_is_initialized(index_name)\n\u001b[0;32m--> 704\u001b[0m \u001b[39mreturn\u001b[39;00m \u001b[39mself\u001b[39;49m\u001b[39m.\u001b[39;49m_indexes[index_name]\u001b[39m.\u001b[39;49msearch(query, k, \u001b[39m*\u001b[39;49m\u001b[39m*\u001b[39;49mkwargs)\n",
      "File \u001b[0;32m~/miniconda3/lib/python3.11/site-packages/datasets/search.py:191\u001b[0m, in \u001b[0;36mElasticSearchIndex.search\u001b[0;34m(self, query, k, **kwargs)\u001b[0m\n\u001b[1;32m    180\u001b[0m \u001b[39mdef\u001b[39;00m \u001b[39msearch\u001b[39m(\u001b[39mself\u001b[39m, query: \u001b[39mstr\u001b[39m, k\u001b[39m=\u001b[39m\u001b[39m10\u001b[39m, \u001b[39m*\u001b[39m\u001b[39m*\u001b[39mkwargs) \u001b[39m-\u001b[39m\u001b[39m>\u001b[39m SearchResults:\n\u001b[1;32m    181\u001b[0m \u001b[39m    \u001b[39m\u001b[39m\"\"\"Find the nearest examples indices to the query.\u001b[39;00m\n\u001b[1;32m    182\u001b[0m \n\u001b[1;32m    183\u001b[0m \u001b[39m    Args:\u001b[39;00m\n\u001b[0;32m   (...)\u001b[0m\n\u001b[1;32m    189\u001b[0m \u001b[39m        indices (`List[List[int]]`): The indices of the retrieved examples.\u001b[39;00m\n\u001b[1;32m    190\u001b[0m \u001b[39m    \"\"\"\u001b[39;00m\n\u001b[0;32m--> 191\u001b[0m     response \u001b[39m=\u001b[39m \u001b[39mself\u001b[39;49m\u001b[39m.\u001b[39;49mes_client\u001b[39m.\u001b[39;49msearch(\n\u001b[1;32m    192\u001b[0m         index\u001b[39m=\u001b[39;49m\u001b[39mself\u001b[39;49m\u001b[39m.\u001b[39;49mes_index_name,\n\u001b[1;32m    193\u001b[0m         body\u001b[39m=\u001b[39;49m{\u001b[39m\"\u001b[39;49m\u001b[39mquery\u001b[39;49m\u001b[39m\"\u001b[39;49m: {\u001b[39m\"\u001b[39;49m\u001b[39mmulti_match\u001b[39;49m\u001b[39m\"\u001b[39;49m: {\u001b[39m\"\u001b[39;49m\u001b[39mquery\u001b[39;49m\u001b[39m\"\u001b[39;49m: query, \u001b[39m\"\u001b[39;49m\u001b[39mfields\u001b[39;49m\u001b[39m\"\u001b[39;49m: [\u001b[39m\"\u001b[39;49m\u001b[39mtext\u001b[39;49m\u001b[39m\"\u001b[39;49m], \u001b[39m\"\u001b[39;49m\u001b[39mtype\u001b[39;49m\u001b[39m\"\u001b[39;49m: \u001b[39m\"\u001b[39;49m\u001b[39mcross_fields\u001b[39;49m\u001b[39m\"\u001b[39;49m}}, \u001b[39m\"\u001b[39;49m\u001b[39msize\u001b[39;49m\u001b[39m\"\u001b[39;49m: k},\n\u001b[1;32m    194\u001b[0m         \u001b[39m*\u001b[39;49m\u001b[39m*\u001b[39;49mkwargs,\n\u001b[1;32m    195\u001b[0m     )\n\u001b[1;32m    196\u001b[0m     hits \u001b[39m=\u001b[39m response[\u001b[39m\"\u001b[39m\u001b[39mhits\u001b[39m\u001b[39m\"\u001b[39m][\u001b[39m\"\u001b[39m\u001b[39mhits\u001b[39m\u001b[39m\"\u001b[39m]\n\u001b[1;32m    197\u001b[0m     \u001b[39mreturn\u001b[39;00m SearchResults([hit[\u001b[39m\"\u001b[39m\u001b[39m_score\u001b[39m\u001b[39m\"\u001b[39m] \u001b[39mfor\u001b[39;00m hit \u001b[39min\u001b[39;00m hits], [\u001b[39mint\u001b[39m(hit[\u001b[39m\"\u001b[39m\u001b[39m_id\u001b[39m\u001b[39m\"\u001b[39m]) \u001b[39mfor\u001b[39;00m hit \u001b[39min\u001b[39;00m hits])\n",
      "File \u001b[0;32m~/miniconda3/lib/python3.11/site-packages/elasticsearch/client/utils.py:168\u001b[0m, in \u001b[0;36mquery_params.<locals>._wrapper.<locals>._wrapped\u001b[0;34m(*args, **kwargs)\u001b[0m\n\u001b[1;32m    166\u001b[0m     \u001b[39mif\u001b[39;00m p \u001b[39min\u001b[39;00m kwargs:\n\u001b[1;32m    167\u001b[0m         params[p] \u001b[39m=\u001b[39m kwargs\u001b[39m.\u001b[39mpop(p)\n\u001b[0;32m--> 168\u001b[0m \u001b[39mreturn\u001b[39;00m func(\u001b[39m*\u001b[39;49margs, params\u001b[39m=\u001b[39;49mparams, headers\u001b[39m=\u001b[39;49mheaders, \u001b[39m*\u001b[39;49m\u001b[39m*\u001b[39;49mkwargs)\n",
      "File \u001b[0;32m~/miniconda3/lib/python3.11/site-packages/elasticsearch/client/__init__.py:1670\u001b[0m, in \u001b[0;36mElasticsearch.search\u001b[0;34m(self, body, index, doc_type, params, headers)\u001b[0m\n\u001b[1;32m   1667\u001b[0m \u001b[39mif\u001b[39;00m \u001b[39m\"\u001b[39m\u001b[39mfrom_\u001b[39m\u001b[39m\"\u001b[39m \u001b[39min\u001b[39;00m params:\n\u001b[1;32m   1668\u001b[0m     params[\u001b[39m\"\u001b[39m\u001b[39mfrom\u001b[39m\u001b[39m\"\u001b[39m] \u001b[39m=\u001b[39m params\u001b[39m.\u001b[39mpop(\u001b[39m\"\u001b[39m\u001b[39mfrom_\u001b[39m\u001b[39m\"\u001b[39m)\n\u001b[0;32m-> 1670\u001b[0m \u001b[39mreturn\u001b[39;00m \u001b[39mself\u001b[39;49m\u001b[39m.\u001b[39;49mtransport\u001b[39m.\u001b[39;49mperform_request(\n\u001b[1;32m   1671\u001b[0m     \u001b[39m\"\u001b[39;49m\u001b[39mPOST\u001b[39;49m\u001b[39m\"\u001b[39;49m,\n\u001b[1;32m   1672\u001b[0m     _make_path(index, doc_type, \u001b[39m\"\u001b[39;49m\u001b[39m_search\u001b[39;49m\u001b[39m\"\u001b[39;49m),\n\u001b[1;32m   1673\u001b[0m     params\u001b[39m=\u001b[39;49mparams,\n\u001b[1;32m   1674\u001b[0m     headers\u001b[39m=\u001b[39;49mheaders,\n\u001b[1;32m   1675\u001b[0m     body\u001b[39m=\u001b[39;49mbody,\n\u001b[1;32m   1676\u001b[0m )\n",
      "File \u001b[0;32m~/miniconda3/lib/python3.11/site-packages/elasticsearch/transport.py:415\u001b[0m, in \u001b[0;36mTransport.perform_request\u001b[0;34m(self, method, url, headers, params, body)\u001b[0m\n\u001b[1;32m    413\u001b[0m             \u001b[39mraise\u001b[39;00m e\n\u001b[1;32m    414\u001b[0m     \u001b[39melse\u001b[39;00m:\n\u001b[0;32m--> 415\u001b[0m         \u001b[39mraise\u001b[39;00m e\n\u001b[1;32m    417\u001b[0m \u001b[39melse\u001b[39;00m:\n\u001b[1;32m    418\u001b[0m     \u001b[39m# connection didn't fail, confirm it's live status\u001b[39;00m\n\u001b[1;32m    419\u001b[0m     \u001b[39mself\u001b[39m\u001b[39m.\u001b[39mconnection_pool\u001b[39m.\u001b[39mmark_live(connection)\n",
      "File \u001b[0;32m~/miniconda3/lib/python3.11/site-packages/elasticsearch/transport.py:381\u001b[0m, in \u001b[0;36mTransport.perform_request\u001b[0;34m(self, method, url, headers, params, body)\u001b[0m\n\u001b[1;32m    378\u001b[0m connection \u001b[39m=\u001b[39m \u001b[39mself\u001b[39m\u001b[39m.\u001b[39mget_connection()\n\u001b[1;32m    380\u001b[0m \u001b[39mtry\u001b[39;00m:\n\u001b[0;32m--> 381\u001b[0m     status, headers_response, data \u001b[39m=\u001b[39m connection\u001b[39m.\u001b[39;49mperform_request(\n\u001b[1;32m    382\u001b[0m         method,\n\u001b[1;32m    383\u001b[0m         url,\n\u001b[1;32m    384\u001b[0m         params,\n\u001b[1;32m    385\u001b[0m         body,\n\u001b[1;32m    386\u001b[0m         headers\u001b[39m=\u001b[39;49mheaders,\n\u001b[1;32m    387\u001b[0m         ignore\u001b[39m=\u001b[39;49mignore,\n\u001b[1;32m    388\u001b[0m         timeout\u001b[39m=\u001b[39;49mtimeout,\n\u001b[1;32m    389\u001b[0m     )\n\u001b[1;32m    391\u001b[0m \u001b[39mexcept\u001b[39;00m TransportError \u001b[39mas\u001b[39;00m e:\n\u001b[1;32m    392\u001b[0m     \u001b[39mif\u001b[39;00m method \u001b[39m==\u001b[39m \u001b[39m\"\u001b[39m\u001b[39mHEAD\u001b[39m\u001b[39m\"\u001b[39m \u001b[39mand\u001b[39;00m e\u001b[39m.\u001b[39mstatus_code \u001b[39m==\u001b[39m \u001b[39m404\u001b[39m:\n",
      "File \u001b[0;32m~/miniconda3/lib/python3.11/site-packages/elasticsearch/connection/http_urllib3.py:277\u001b[0m, in \u001b[0;36mUrllib3HttpConnection.perform_request\u001b[0;34m(self, method, url, params, body, timeout, ignore, headers)\u001b[0m\n\u001b[1;32m    273\u001b[0m \u001b[39mif\u001b[39;00m \u001b[39mnot\u001b[39;00m (\u001b[39m200\u001b[39m \u001b[39m<\u001b[39m\u001b[39m=\u001b[39m response\u001b[39m.\u001b[39mstatus \u001b[39m<\u001b[39m \u001b[39m300\u001b[39m) \u001b[39mand\u001b[39;00m response\u001b[39m.\u001b[39mstatus \u001b[39mnot\u001b[39;00m \u001b[39min\u001b[39;00m ignore:\n\u001b[1;32m    274\u001b[0m     \u001b[39mself\u001b[39m\u001b[39m.\u001b[39mlog_request_fail(\n\u001b[1;32m    275\u001b[0m         method, full_url, url, orig_body, duration, response\u001b[39m.\u001b[39mstatus, raw_data\n\u001b[1;32m    276\u001b[0m     )\n\u001b[0;32m--> 277\u001b[0m     \u001b[39mself\u001b[39;49m\u001b[39m.\u001b[39;49m_raise_error(response\u001b[39m.\u001b[39;49mstatus, raw_data)\n\u001b[1;32m    279\u001b[0m \u001b[39mself\u001b[39m\u001b[39m.\u001b[39mlog_request_success(\n\u001b[1;32m    280\u001b[0m     method, full_url, url, orig_body, response\u001b[39m.\u001b[39mstatus, raw_data, duration\n\u001b[1;32m    281\u001b[0m )\n\u001b[1;32m    283\u001b[0m \u001b[39mreturn\u001b[39;00m response\u001b[39m.\u001b[39mstatus, response\u001b[39m.\u001b[39mgetheaders(), raw_data\n",
      "File \u001b[0;32m~/miniconda3/lib/python3.11/site-packages/elasticsearch/connection/base.py:330\u001b[0m, in \u001b[0;36mConnection._raise_error\u001b[0;34m(self, status_code, raw_data)\u001b[0m\n\u001b[1;32m    327\u001b[0m \u001b[39mexcept\u001b[39;00m (\u001b[39mValueError\u001b[39;00m, \u001b[39mTypeError\u001b[39;00m) \u001b[39mas\u001b[39;00m err:\n\u001b[1;32m    328\u001b[0m     logger\u001b[39m.\u001b[39mwarning(\u001b[39m\"\u001b[39m\u001b[39mUndecodable raw error response from server: \u001b[39m\u001b[39m%s\u001b[39;00m\u001b[39m\"\u001b[39m, err)\n\u001b[0;32m--> 330\u001b[0m \u001b[39mraise\u001b[39;00m HTTP_EXCEPTIONS\u001b[39m.\u001b[39mget(status_code, TransportError)(\n\u001b[1;32m    331\u001b[0m     status_code, error_message, additional_info\n\u001b[1;32m    332\u001b[0m )\n",
      "\u001b[0;31mRequestError\u001b[0m: RequestError(400, 'parsing_exception', '[multi_match] unknown token [START_OBJECT] after [query]')"
     ]
    }
   ],
   "source": [
    "ds.get_nearest_examples(\"out\",dict(query=dict(match=dict(message=\"this is a test\")),k=5))"
   ]
  },
  {
   "cell_type": "code",
   "execution_count": 6,
   "metadata": {},
   "outputs": [],
   "source": []
  },
  {
   "cell_type": "code",
   "execution_count": 16,
   "metadata": {},
   "outputs": [
    {
     "data": {
      "text/plain": [
       "{'took': 4,\n",
       " 'timed_out': False,\n",
       " '_shards': {'total': 1, 'successful': 1, 'skipped': 0, 'failed': 0},\n",
       " 'hits': {'total': {'value': 1, 'relation': 'eq'},\n",
       "  'max_score': 1.0,\n",
       "  'hits': [{'_index': 'test',\n",
       "    '_id': 'LDQTEI0BQviMMd9mlnXv',\n",
       "    '_score': 1.0,\n",
       "    '_source': {'test_key': 'test_value'}}]}}"
      ]
     },
     "execution_count": 16,
     "metadata": {},
     "output_type": "execute_result"
    }
   ],
   "source": [
    "es_con.search(index = \"test\", body={\"query\":{\"match_all\":{}}})"
   ]
  },
  {
   "cell_type": "code",
   "execution_count": 17,
   "metadata": {},
   "outputs": [
    {
     "data": {
      "text/plain": [
       "{'_index': 'test',\n",
       " '_id': 'LTQWEI0BQviMMd9mi3UD',\n",
       " '_version': 1,\n",
       " 'result': 'created',\n",
       " '_shards': {'total': 2, 'successful': 1, 'failed': 0},\n",
       " '_seq_no': 1,\n",
       " '_primary_term': 1}"
      ]
     },
     "execution_count": 17,
     "metadata": {},
     "output_type": "execute_result"
    }
   ],
   "source": [
    "es_con.index(index= \"test\", body={\"test_key\": \"test_value\"})"
   ]
  },
  {
   "cell_type": "code",
   "execution_count": null,
   "metadata": {},
   "outputs": [],
   "source": []
  }
 ],
 "metadata": {
  "kernelspec": {
   "display_name": "base",
   "language": "python",
   "name": "python3"
  },
  "language_info": {
   "codemirror_mode": {
    "name": "ipython",
    "version": 3
   },
   "file_extension": ".py",
   "mimetype": "text/x-python",
   "name": "python",
   "nbconvert_exporter": "python",
   "pygments_lexer": "ipython3",
   "version": "3.11.4"
  }
 },
 "nbformat": 4,
 "nbformat_minor": 2
}
