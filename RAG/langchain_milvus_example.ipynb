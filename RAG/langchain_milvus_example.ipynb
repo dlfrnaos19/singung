{
 "cells": [
  {
   "cell_type": "code",
   "execution_count": null,
   "metadata": {},
   "outputs": [],
   "source": [
    "# get milvus con\n",
    "from pymilvus import connections, db\n",
    "con = connections.connect(host=\"127.0.0.1\",port=19530)\n",
    "\n",
    "# get milvus collection(something like column)\n",
    "from pymilvus import Collection\n",
    "col = Collection(\"embedding1\")\n",
    "col2 = Collection(\"embedding2\")\n",
    "\n",
    "# drop collection\n",
    "from pymilvus import utility\n",
    "utility.drop_collection(\"embedding1\")\n",
    "utility.drop_collection(\"embedding2\")"
   ]
  },
  {
   "cell_type": "code",
   "execution_count": null,
   "metadata": {},
   "outputs": [],
   "source": [
    "# get embedding function\n",
    "import sys\n",
    "sys.path.append(\"/home/19kim/work/repos/singung\")\n",
    "from langchain.vectorstores.milvus import Milvus\n",
    "from embedding import HuggingFaceLLMPromptedEmbeddings, HuggingFaceLLMWeightedEmbeddings, HuggingFaceBERTEmbeddings\n",
    "model_path = \"/home/19kim/work/models/42dot_PLM-1.3B\"\n",
    "embedding1 = HuggingFaceLLMWeightedEmbeddings(\n",
    "    model_name=model_path,\n",
    "    use_gpu=True\n",
    ")\n",
    "\n",
    "# sample ds\n",
    "from util import get_hf_dataset, get_hf_model_tokenizer\n",
    "ds = get_hf_dataset(\"maywell/ko_wikidata_QA\")\n",
    "ds = ds.select(range(50))\n",
    "\n",
    "# vectorize and save vector in Milvus, this will add the vectors in Milvus\n",
    "vec1 = Milvus.from_texts(\n",
    "    texts=ds[\"output\"],\n",
    "    embedding=embedding1,\n",
    "    collection_name=\"embedding1\"\n",
    ")\n",
    "\n",
    "# if you don`t want to save the data\n",
    "vec1 = Milvus(embedding_function=embedding1, collection_name=\"embedding1\")\n",
    "\n",
    "search_keyword = \"검색어 입력\"\n",
    "vec1.similarity_search_with_score(search_keyword)"
   ]
  }
 ],
 "metadata": {
  "language_info": {
   "name": "python"
  }
 },
 "nbformat": 4,
 "nbformat_minor": 2
}
